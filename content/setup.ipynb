{
 "cells": [
  {
   "cell_type": "markdown",
   "metadata": {},
   "source": [
    "# 安装环境依赖 \n"
   ]
  },
  {
   "cell_type": "code",
   "execution_count": 1,
   "metadata": {
    "vscode": {
     "languageId": "shellscript"
    }
   },
   "outputs": [
    {
     "name": "stdout",
     "output_type": "stream",
     "text": [
      "Requirement already satisfied: ipywidgets in /usr/local/python/3.12.1/lib/python3.12/site-packages (from -r requirements.txt (line 1)) (8.1.5)\n",
      "Requirement already satisfied: matplotlib in /home/codespace/.local/lib/python3.12/site-packages (from -r requirements.txt (line 2)) (3.9.2)\n",
      "Requirement already satisfied: numpy in /home/codespace/.local/lib/python3.12/site-packages (from -r requirements.txt (line 3)) (2.1.0)\n",
      "Requirement already satisfied: pandas in /home/codespace/.local/lib/python3.12/site-packages (from -r requirements.txt (line 4)) (2.2.2)\n",
      "Requirement already satisfied: tqdm in /usr/local/python/3.12.1/lib/python3.12/site-packages (from -r requirements.txt (line 5)) (4.66.5)\n",
      "Requirement already satisfied: python-dotenv in /usr/local/python/3.12.1/lib/python3.12/site-packages (from -r requirements.txt (line 6)) (1.0.1)\n",
      "Requirement already satisfied: openai in /usr/local/python/3.12.1/lib/python3.12/site-packages (from -r requirements.txt (line 7)) (1.44.0)\n",
      "Requirement already satisfied: tiktoken in /usr/local/python/3.12.1/lib/python3.12/site-packages (from -r requirements.txt (line 8)) (0.7.0)\n",
      "Requirement already satisfied: redlines in /usr/local/python/3.12.1/lib/python3.12/site-packages (from -r requirements.txt (line 9)) (0.4.2)\n",
      "Requirement already satisfied: comm>=0.1.3 in /home/codespace/.local/lib/python3.12/site-packages (from ipywidgets->-r requirements.txt (line 1)) (0.2.2)\n",
      "Requirement already satisfied: ipython>=6.1.0 in /home/codespace/.local/lib/python3.12/site-packages (from ipywidgets->-r requirements.txt (line 1)) (8.26.0)\n",
      "Requirement already satisfied: traitlets>=4.3.1 in /home/codespace/.local/lib/python3.12/site-packages (from ipywidgets->-r requirements.txt (line 1)) (5.14.3)\n",
      "Requirement already satisfied: widgetsnbextension~=4.0.12 in /usr/local/python/3.12.1/lib/python3.12/site-packages (from ipywidgets->-r requirements.txt (line 1)) (4.0.13)\n",
      "Requirement already satisfied: jupyterlab-widgets~=3.0.12 in /usr/local/python/3.12.1/lib/python3.12/site-packages (from ipywidgets->-r requirements.txt (line 1)) (3.0.13)\n",
      "Requirement already satisfied: contourpy>=1.0.1 in /home/codespace/.local/lib/python3.12/site-packages (from matplotlib->-r requirements.txt (line 2)) (1.2.1)\n",
      "Requirement already satisfied: cycler>=0.10 in /home/codespace/.local/lib/python3.12/site-packages (from matplotlib->-r requirements.txt (line 2)) (0.12.1)\n",
      "Requirement already satisfied: fonttools>=4.22.0 in /home/codespace/.local/lib/python3.12/site-packages (from matplotlib->-r requirements.txt (line 2)) (4.53.1)\n",
      "Requirement already satisfied: kiwisolver>=1.3.1 in /home/codespace/.local/lib/python3.12/site-packages (from matplotlib->-r requirements.txt (line 2)) (1.4.5)\n",
      "Requirement already satisfied: packaging>=20.0 in /home/codespace/.local/lib/python3.12/site-packages (from matplotlib->-r requirements.txt (line 2)) (24.1)\n",
      "Requirement already satisfied: pillow>=8 in /home/codespace/.local/lib/python3.12/site-packages (from matplotlib->-r requirements.txt (line 2)) (10.4.0)\n",
      "Requirement already satisfied: pyparsing>=2.3.1 in /home/codespace/.local/lib/python3.12/site-packages (from matplotlib->-r requirements.txt (line 2)) (3.1.2)\n",
      "Requirement already satisfied: python-dateutil>=2.7 in /home/codespace/.local/lib/python3.12/site-packages (from matplotlib->-r requirements.txt (line 2)) (2.9.0.post0)\n",
      "Requirement already satisfied: pytz>=2020.1 in /home/codespace/.local/lib/python3.12/site-packages (from pandas->-r requirements.txt (line 4)) (2024.1)\n",
      "Requirement already satisfied: tzdata>=2022.7 in /home/codespace/.local/lib/python3.12/site-packages (from pandas->-r requirements.txt (line 4)) (2024.1)\n",
      "Requirement already satisfied: anyio<5,>=3.5.0 in /home/codespace/.local/lib/python3.12/site-packages (from openai->-r requirements.txt (line 7)) (4.4.0)\n",
      "Requirement already satisfied: distro<2,>=1.7.0 in /usr/local/python/3.12.1/lib/python3.12/site-packages (from openai->-r requirements.txt (line 7)) (1.9.0)\n",
      "Requirement already satisfied: httpx<1,>=0.23.0 in /home/codespace/.local/lib/python3.12/site-packages (from openai->-r requirements.txt (line 7)) (0.27.0)\n",
      "Requirement already satisfied: jiter<1,>=0.4.0 in /usr/local/python/3.12.1/lib/python3.12/site-packages (from openai->-r requirements.txt (line 7)) (0.5.0)\n",
      "Requirement already satisfied: pydantic<3,>=1.9.0 in /usr/local/python/3.12.1/lib/python3.12/site-packages (from openai->-r requirements.txt (line 7)) (2.9.0)\n",
      "Requirement already satisfied: sniffio in /home/codespace/.local/lib/python3.12/site-packages (from openai->-r requirements.txt (line 7)) (1.3.1)\n",
      "Requirement already satisfied: typing-extensions<5,>=4.11 in /usr/local/python/3.12.1/lib/python3.12/site-packages (from openai->-r requirements.txt (line 7)) (4.12.2)\n",
      "Requirement already satisfied: regex>=2022.1.18 in /usr/local/python/3.12.1/lib/python3.12/site-packages (from tiktoken->-r requirements.txt (line 8)) (2024.7.24)\n",
      "Requirement already satisfied: requests>=2.26.0 in /home/codespace/.local/lib/python3.12/site-packages (from tiktoken->-r requirements.txt (line 8)) (2.32.3)\n",
      "Requirement already satisfied: click<9.0.0,>=8.1.3 in /usr/local/python/3.12.1/lib/python3.12/site-packages (from redlines->-r requirements.txt (line 9)) (8.1.7)\n",
      "Requirement already satisfied: rich<14.0.0,>=13.3.5 in /usr/local/python/3.12.1/lib/python3.12/site-packages (from redlines->-r requirements.txt (line 9)) (13.8.0)\n",
      "Requirement already satisfied: rich-click<2.0.0,>=1.6.1 in /usr/local/python/3.12.1/lib/python3.12/site-packages (from redlines->-r requirements.txt (line 9)) (1.8.3)\n",
      "Requirement already satisfied: idna>=2.8 in /home/codespace/.local/lib/python3.12/site-packages (from anyio<5,>=3.5.0->openai->-r requirements.txt (line 7)) (3.7)\n",
      "Requirement already satisfied: certifi in /home/codespace/.local/lib/python3.12/site-packages (from httpx<1,>=0.23.0->openai->-r requirements.txt (line 7)) (2024.7.4)\n",
      "Requirement already satisfied: httpcore==1.* in /home/codespace/.local/lib/python3.12/site-packages (from httpx<1,>=0.23.0->openai->-r requirements.txt (line 7)) (1.0.5)\n",
      "Requirement already satisfied: h11<0.15,>=0.13 in /home/codespace/.local/lib/python3.12/site-packages (from httpcore==1.*->httpx<1,>=0.23.0->openai->-r requirements.txt (line 7)) (0.14.0)\n",
      "Requirement already satisfied: decorator in /home/codespace/.local/lib/python3.12/site-packages (from ipython>=6.1.0->ipywidgets->-r requirements.txt (line 1)) (5.1.1)\n",
      "Requirement already satisfied: jedi>=0.16 in /home/codespace/.local/lib/python3.12/site-packages (from ipython>=6.1.0->ipywidgets->-r requirements.txt (line 1)) (0.19.1)\n",
      "Requirement already satisfied: matplotlib-inline in /home/codespace/.local/lib/python3.12/site-packages (from ipython>=6.1.0->ipywidgets->-r requirements.txt (line 1)) (0.1.7)\n",
      "Requirement already satisfied: prompt-toolkit<3.1.0,>=3.0.41 in /home/codespace/.local/lib/python3.12/site-packages (from ipython>=6.1.0->ipywidgets->-r requirements.txt (line 1)) (3.0.47)\n",
      "Requirement already satisfied: pygments>=2.4.0 in /home/codespace/.local/lib/python3.12/site-packages (from ipython>=6.1.0->ipywidgets->-r requirements.txt (line 1)) (2.18.0)\n",
      "Requirement already satisfied: stack-data in /home/codespace/.local/lib/python3.12/site-packages (from ipython>=6.1.0->ipywidgets->-r requirements.txt (line 1)) (0.6.3)\n",
      "Requirement already satisfied: pexpect>4.3 in /home/codespace/.local/lib/python3.12/site-packages (from ipython>=6.1.0->ipywidgets->-r requirements.txt (line 1)) (4.9.0)\n",
      "Requirement already satisfied: annotated-types>=0.4.0 in /usr/local/python/3.12.1/lib/python3.12/site-packages (from pydantic<3,>=1.9.0->openai->-r requirements.txt (line 7)) (0.7.0)\n",
      "Requirement already satisfied: pydantic-core==2.23.2 in /usr/local/python/3.12.1/lib/python3.12/site-packages (from pydantic<3,>=1.9.0->openai->-r requirements.txt (line 7)) (2.23.2)\n",
      "Requirement already satisfied: six>=1.5 in /home/codespace/.local/lib/python3.12/site-packages (from python-dateutil>=2.7->matplotlib->-r requirements.txt (line 2)) (1.16.0)\n",
      "Requirement already satisfied: charset-normalizer<4,>=2 in /home/codespace/.local/lib/python3.12/site-packages (from requests>=2.26.0->tiktoken->-r requirements.txt (line 8)) (3.3.2)\n",
      "Requirement already satisfied: urllib3<3,>=1.21.1 in /home/codespace/.local/lib/python3.12/site-packages (from requests>=2.26.0->tiktoken->-r requirements.txt (line 8)) (2.2.2)\n",
      "Requirement already satisfied: markdown-it-py>=2.2.0 in /usr/local/python/3.12.1/lib/python3.12/site-packages (from rich<14.0.0,>=13.3.5->redlines->-r requirements.txt (line 9)) (3.0.0)\n",
      "Requirement already satisfied: parso<0.9.0,>=0.8.3 in /home/codespace/.local/lib/python3.12/site-packages (from jedi>=0.16->ipython>=6.1.0->ipywidgets->-r requirements.txt (line 1)) (0.8.4)\n",
      "Requirement already satisfied: mdurl~=0.1 in /usr/local/python/3.12.1/lib/python3.12/site-packages (from markdown-it-py>=2.2.0->rich<14.0.0,>=13.3.5->redlines->-r requirements.txt (line 9)) (0.1.2)\n",
      "Requirement already satisfied: ptyprocess>=0.5 in /home/codespace/.local/lib/python3.12/site-packages (from pexpect>4.3->ipython>=6.1.0->ipywidgets->-r requirements.txt (line 1)) (0.7.0)\n",
      "Requirement already satisfied: wcwidth in /home/codespace/.local/lib/python3.12/site-packages (from prompt-toolkit<3.1.0,>=3.0.41->ipython>=6.1.0->ipywidgets->-r requirements.txt (line 1)) (0.2.13)\n",
      "Requirement already satisfied: executing>=1.2.0 in /home/codespace/.local/lib/python3.12/site-packages (from stack-data->ipython>=6.1.0->ipywidgets->-r requirements.txt (line 1)) (2.0.1)\n",
      "Requirement already satisfied: asttokens>=2.1.0 in /home/codespace/.local/lib/python3.12/site-packages (from stack-data->ipython>=6.1.0->ipywidgets->-r requirements.txt (line 1)) (2.4.1)\n",
      "Requirement already satisfied: pure-eval in /home/codespace/.local/lib/python3.12/site-packages (from stack-data->ipython>=6.1.0->ipywidgets->-r requirements.txt (line 1)) (0.2.3)\n"
     ]
    }
   ],
   "source": [
    "!pip install -r requirements.txt\n"
   ]
  },
  {
   "cell_type": "markdown",
   "metadata": {},
   "source": [
    "    由于OpenAI升级了SDK版本，2023年的代码将大概率不能直接运行。本课程根据新版本的SDK更新了代码。"
   ]
  },
  {
   "cell_type": "code",
   "execution_count": 1,
   "metadata": {},
   "outputs": [
    {
     "name": "stdout",
     "output_type": "stream",
     "text": [
      "OPENAI_API_KEY found in environment variables\n",
      "sk-1ad3edbf\n"
     ]
    }
   ],
   "source": [
    "import os\n",
    "from openai import OpenAI\n",
    "from dotenv import load_dotenv\n",
    "load_dotenv(\"/workspaces/llm-cookbook/content/.env\") # Change the  path if running from a different location.\n",
    "\n",
    "if 'OPENAI_API_KEY' not in os.environ:\n",
    "    print(\"OPENAI_API_KEY not found in environment variables\")\n",
    "    # 可以在这里添加额外的错误处理逻辑\n",
    "else:\n",
    "    print(\"OPENAI_API_KEY found in environment variables\")\n",
    "\n",
    "client = OpenAI(\n",
    "  api_key=os.environ['OPENAI_API_KEY'],\n",
    "  base_url=\"https://api.deepseek.com\"\n",
    ")\n",
    "deployment = \"deepseek-chat\"  # Typically, you would use this if specifying a particular model or deployment.\n",
    "print(client.api_key[:11])"
   ]
  },
  {
   "cell_type": "code",
   "execution_count": 4,
   "metadata": {},
   "outputs": [
    {
     "data": {
      "text/plain": [
       "'Hello! How can I assist you today?'"
      ]
     },
     "execution_count": 4,
     "metadata": {},
     "output_type": "execute_result"
    }
   ],
   "source": [
    "def get_completion(prompt):\n",
    "    messages = [{\"role\": \"user\", \"content\": prompt}]\n",
    "    response = client.chat.completions.create(\n",
    "        model=deployment,                                        \n",
    "        messages=messages,\n",
    "        temperature=0,  # this controls the randomness of the model's output\n",
    "        max_tokens=1024\n",
    "    )\n",
    "    return response.choices[0].message.content\n",
    "\n",
    "# function test\n",
    "get_completion(\"hello\")"
   ]
  },
  {
   "cell_type": "code",
   "execution_count": 5,
   "metadata": {},
   "outputs": [
    {
     "name": "stdout",
     "output_type": "stream",
     "text": [
      "你好！很高兴听到你在学习大语言模型应用开发。这是一个非常有趣且前景广阔的领域。大语言模型（如GPT-3、GPT-4、BERT等）已经在自然语言处理（NLP）领域取得了显著的进展，并且在各种应用中得到了广泛的应用，如聊天机器人、文本生成、情感分析、机器翻译等。\n",
      "\n",
      "### 1. **基础知识**\n",
      "   - **自然语言处理（NLP）**：了解NLP的基本概念和技术，如词嵌入（Word Embeddings）、序列模型（如RNN、LSTM、Transformer）等。\n",
      "   - **深度学习**：掌握深度学习的基本原理，特别是神经网络的结构和训练方法。\n",
      "   - **Python编程**：熟练使用Python进行编程，因为大多数NLP库和工具都是基于Python的。\n",
      "\n",
      "### 2. **常用工具和库**\n",
      "   - **TensorFlow/PyTorch**：这两个是深度学习的主要框架，掌握其中一个或两个都能帮助你更好地理解和实现大语言模型。\n",
      "   - **Hugging Face Transformers**：这是一个非常流行的库，提供了许多预训练的大语言模型（如GPT、BERT等），并且支持模型的微调和部署。\n",
      "   - **NLTK/spaCy**：这些是常用的NLP库，可以帮助你进行文本预处理、分词、词性标注等任务。\n",
      "\n",
      "### 3. **学习资源**\n",
      "   - **在线课程**：Coursera、edX、Udacity等平台上有很多关于NLP和深度学习的课程。\n",
      "   - **书籍**：《Deep Learning》（Ian Goodfellow等）、《Speech and Language Processing》（Daniel Jurafsky等）。\n",
      "   - **论文**：阅读最新的研究论文可以帮助你了解当前的技术进展和研究方向。\n",
      "\n",
      "### 4. **实践项目**\n",
      "   - **文本分类**：尝试构建一个文本分类器，如情感分析模型。\n",
      "   - **聊天机器人**：使用大语言模型构建一个简单的聊天机器人。\n",
      "   - **文本生成**：尝试使用GPT模型生成文本，如故事、诗歌等。\n",
      "\n",
      "### 5. **社区和论坛**\n",
      "   - **GitHub**：参与开源项目，或者自己创建一个项目并分享到GitHub上。\n",
      "   - **Stack Overflow**：在遇到问题时，可以在Stack Overflow上查找答案或提问。\n",
      "   - **Hugging Face社区**：Hugging Face有一个活跃的社区，你可以在那里找到很多有用的资源和讨论。\n",
      "\n",
      "### 6. **未来发展**\n",
      "   - **多模态学习**：结合图像、文本、音频等多种模态的数据进行学习，这是未来的一个重要方向。\n",
      "   - **模型压缩与优化**：研究如何在不显著降低性能的情况下，压缩和优化大语言模型，使其更适合在移动设备或边缘设备上运行。\n",
      "   - **伦理与安全**：了解大语言模型在应用中的伦理问题和安全风险，如偏见、隐私等。\n",
      "\n",
      "希望这些建议对你有所帮助！如果你有具体的问题或需要进一步的指导，随时可以问我。祝你在学习大语言模型应用开发的过程中取得成功！\n"
     ]
    }
   ],
   "source": [
    "prompt = f\"\"\"\n",
    "你好？我是一个计算机的大学生，我在学习大语言模型应用开发。\n",
    "\"\"\"\n",
    "response = get_completion(prompt)\n",
    "print(response)"
   ]
  }
 ],
 "metadata": {
  "kernelspec": {
   "display_name": "Python 3",
   "language": "python",
   "name": "python3"
  },
  "language_info": {
   "codemirror_mode": {
    "name": "ipython",
    "version": 3
   },
   "file_extension": ".py",
   "mimetype": "text/x-python",
   "name": "python",
   "nbconvert_exporter": "python",
   "pygments_lexer": "ipython3",
   "version": "3.12.1"
  }
 },
 "nbformat": 4,
 "nbformat_minor": 2
}
