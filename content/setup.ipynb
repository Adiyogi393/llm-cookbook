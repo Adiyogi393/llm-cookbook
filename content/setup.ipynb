{
 "cells": [
  {
   "cell_type": "markdown",
   "metadata": {},
   "source": [
    "# 安装环境依赖 \n"
   ]
  },
  {
   "cell_type": "code",
   "execution_count": null,
   "metadata": {
    "vscode": {
     "languageId": "shellscript"
    }
   },
   "outputs": [],
   "source": [
    "!pip install -r requirements.txt"
   ]
  },
  {
   "cell_type": "markdown",
   "metadata": {},
   "source": [
    "    由于OpenAI升级了SDK版本，2023年的代码将大概率不能直接运行。本课程根据新版本的SDK更新了代码。"
   ]
  },
  {
   "cell_type": "code",
   "execution_count": 7,
   "metadata": {},
   "outputs": [],
   "source": [
    "import os\n",
    "from openai import OpenAI\n",
    "\n",
    "\n",
    "client = OpenAI(\n",
    "  api_key=\"sk-\",\n",
    "  base_url=\"https://api.deepseek.com\"\n",
    ")\n",
    "deployment = \"deepseek-chat\"  # Typically, you would use this if specifying a particular model or deployment."
   ]
  },
  {
   "cell_type": "code",
   "execution_count": 8,
   "metadata": {},
   "outputs": [
    {
     "data": {
      "text/plain": [
       "'Hello! How can I assist you today?'"
      ]
     },
     "execution_count": 8,
     "metadata": {},
     "output_type": "execute_result"
    }
   ],
   "source": [
    "def get_completion(prompt):\n",
    "    messages = [{\"role\": \"user\", \"content\": prompt}]\n",
    "    response = client.chat.completions.create(\n",
    "        model=deployment,                                        \n",
    "        messages=messages,\n",
    "        temperature=0,  # this controls the randomness of the model's output\n",
    "        max_tokens=1024\n",
    "    )\n",
    "    return response.choices[0].message.content\n",
    "\n",
    "# function test\n",
    "get_completion(\"hello\")"
   ]
  },
  {
   "cell_type": "code",
   "execution_count": 9,
   "metadata": {},
   "outputs": [
    {
     "name": "stdout",
     "output_type": "stream",
     "text": [
      "你好！很高兴听到你在学习大语言模型应用开发。这是一个非常前沿且充满挑战的领域，随着人工智能技术的不断发展，大语言模型（如GPT-3、GPT-4、BERT等）在自然语言处理、文本生成、对话系统等多个领域都有着广泛的应用。\n",
      "\n",
      "### 1. **基础知识**\n",
      "   - **自然语言处理（NLP）**：了解NLP的基本概念和任务，如文本分类、情感分析、命名实体识别、机器翻译等。\n",
      "   - **深度学习**：掌握深度学习的基本原理，特别是神经网络、卷积神经网络（CNN）、循环神经网络（RNN）和Transformer架构。\n",
      "   - **Python编程**：熟练使用Python进行数据处理、模型训练和推理。常用的库包括TensorFlow、PyTorch、Hugging Face的Transformers库等。\n",
      "\n",
      "### 2. **大语言模型**\n",
      "   - **模型架构**：了解Transformer架构，这是大多数现代大语言模型的基础。学习如何使用预训练模型（如GPT、BERT等）进行微调。\n",
      "   - **预训练与微调**：理解预训练模型的原理，如何在大规模语料库上进行预训练，以及如何在特定任务上进行微调。\n",
      "   - **模型评估**：学习如何评估模型的性能，常用的指标包括准确率、F1分数、BLEU分数等。\n",
      "\n",
      "### 3. **工具与库**\n",
      "   - **Hugging Face Transformers**：这是一个非常流行的库，提供了许多预训练模型和工具，方便你快速上手大语言模型的开发。\n",
      "   - **TensorFlow/PyTorch**：这两个深度学习框架是开发大语言模型的基础工具。你可以选择其中一个进行深入学习。\n",
      "   - **Jupyter Notebook**：用于实验和快速原型开发，方便你调试和展示代码。\n",
      "\n",
      "### 4. **实践项目**\n",
      "   - **文本生成**：尝试使用GPT模型生成文本，如故事、诗歌、代码等。\n",
      "   - **问答系统**：基于BERT或GPT模型构建一个简单的问答系统，处理用户的问题并给出答案。\n",
      "   - **情感分析**：使用预训练模型对文本进行情感分析，判断文本的情感倾向（正面、负面、中性）。\n",
      "   - **机器翻译**：尝试使用Transformer模型进行机器翻译任务。\n",
      "\n",
      "### 5. **学习资源**\n",
      "   - **在线课程**：Coursera、edX、Udacity等平台上有很多关于NLP和深度学习的课程。\n",
      "   - **书籍**：《Deep Learning》（Ian Goodfellow等）、《Speech and Language Processing》（Daniel Jurafsky等）。\n",
      "   - **论文**：阅读最新的研究论文，了解大语言模型的最新进展。\n",
      "   - **社区**：加入相关的技术社区，如GitHub、Stack Overflow、Reddit等，与其他开发者交流经验。\n",
      "\n",
      "### 6. **进阶方向**\n",
      "   - **模型优化**：学习如何优化模型的推理速度和内存占用，如模型剪枝、量化、蒸馏等技术。\n",
      "   - **多模态学习**：探索如何将文本与其他模态（如图像、音频）结合，开发多模态大语言模型。\n",
      "   - **伦理与安全**：了解大语言模型在应用中的伦理问题，如偏见、隐私保护等。\n",
      "\n",
      "希望这些建议对你有所帮助！如果你有具体的问题或需要进一步的指导，随时可以提问。祝你在大语言模型应用开发的学习中取得成功！\n"
     ]
    }
   ],
   "source": [
    "prompt = f\"\"\"\n",
    "你好？我是一个计算机的大学生，我在学习大语言模型应用开发。\n",
    "\"\"\"\n",
    "response = get_completion(prompt)\n",
    "print(response)"
   ]
  }
 ],
 "metadata": {
  "kernelspec": {
   "display_name": "Python 3",
   "language": "python",
   "name": "python3"
  },
  "language_info": {
   "codemirror_mode": {
    "name": "ipython",
    "version": 3
   },
   "file_extension": ".py",
   "mimetype": "text/x-python",
   "name": "python",
   "nbconvert_exporter": "python",
   "pygments_lexer": "ipython3",
   "version": "3.12.1"
  }
 },
 "nbformat": 4,
 "nbformat_minor": 2
}
