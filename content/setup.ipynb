{
 "cells": [
  {
   "cell_type": "markdown",
   "metadata": {},
   "source": [
    "# 安装环境依赖 \n"
   ]
  },
  {
   "cell_type": "code",
   "execution_count": null,
   "metadata": {
    "vscode": {
     "languageId": "shellscript"
    }
   },
   "outputs": [],
   "source": [
    "!pip install -r requirements.txt\n",
    "!cp .env-back .env"
   ]
  },
  {
   "cell_type": "markdown",
   "metadata": {},
   "source": [
    "    由于OpenAI升级了SDK版本，2023年的代码将大概率不能直接运行。本课程根据新版本的SDK更新了代码。"
   ]
  },
  {
   "cell_type": "code",
   "execution_count": null,
   "metadata": {},
   "outputs": [],
   "source": [
    "import os\n",
    "from openai import OpenAI\n",
    "from dotenv import load_dotenv\n",
    "load_dotenv()\n",
    "\n",
    "client = OpenAI(\n",
    "  api_key=os.environ['OPENAI_API_KEY']\n",
    ")\n",
    "deployment = \"gpt-3.5-turbo\"  # Typically, you would use this if specifying a particular model or deployment.\n",
    "print(client.api_key[:10])"
   ]
  },
  {
   "cell_type": "code",
   "execution_count": 4,
   "metadata": {},
   "outputs": [],
   "source": [
    "def get_completion(prompt):\n",
    "    messages = [{\"role\": \"user\", \"content\": prompt}]\n",
    "    response = client.chat.completions.create(\n",
    "        model=deployment,                                        \n",
    "        messages=messages,\n",
    "        temperature=0,  # this controls the randomness of the model's output\n",
    "        max_tokens=1024\n",
    "    )\n",
    "    return response.choices[0].message.content\n",
    "\n",
    "# function test\n",
    "get_completion(\"hello\")"
   ]
  },
  {
   "cell_type": "code",
   "execution_count": 6,
   "metadata": {},
   "outputs": [
    {
     "name": "stdout",
     "output_type": "stream",
     "text": [
      "你好！很高兴认识你。大语言模型应用开发听起来很有趣，你对这个领域有什么特别感兴趣的方面吗？如果有任何问题或者想要讨论的话，欢迎随时和我交流。祝你在学习和发展中取得成功！\n"
     ]
    }
   ],
   "source": [
    "prompt = f\"\"\"\n",
    "你好？我是一个计算机的大学生，我在学习大语言模型应用开发。\n",
    "\"\"\"\n",
    "response = get_completion(prompt)\n",
    "print(response)"
   ]
  }
 ],
 "metadata": {
  "kernelspec": {
   "display_name": "Python 3",
   "language": "python",
   "name": "python3"
  },
  "language_info": {
   "codemirror_mode": {
    "name": "ipython",
    "version": 3
   },
   "file_extension": ".py",
   "mimetype": "text/x-python",
   "name": "python",
   "nbconvert_exporter": "python",
   "pygments_lexer": "ipython3",
   "version": "3.12.3"
  }
 },
 "nbformat": 4,
 "nbformat_minor": 2
}
